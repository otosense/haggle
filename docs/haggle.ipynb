{
 "cells": [
  {
   "cell_type": "markdown",
   "metadata": {
    "toc": true
   },
   "source": [
    "<h1>Table of Contents<span class=\"tocSkip\"></span></h1>\n",
    "<div class=\"toc\"><ul class=\"toc-item\"><li><span><a href=\"#Haggle\" data-toc-modified-id=\"Haggle-1\"><span class=\"toc-item-num\">1&nbsp;&nbsp;</span>Haggle</a></span></li><li><span><a href=\"#Install\" data-toc-modified-id=\"Install-2\"><span class=\"toc-item-num\">2&nbsp;&nbsp;</span>Install</a></span><ul class=\"toc-item\"><li><span><a href=\"#API-credentials\" data-toc-modified-id=\"API-credentials-2.1\"><span class=\"toc-item-num\">2.1&nbsp;&nbsp;</span>API credentials</a></span></li></ul></li><li><span><a href=\"#Simple-example\" data-toc-modified-id=\"Simple-example-3\"><span class=\"toc-item-num\">3&nbsp;&nbsp;</span>Simple example</a></span><ul class=\"toc-item\"><li><span><a href=\"#Conclusion\" data-toc-modified-id=\"Conclusion-3.1\"><span class=\"toc-item-num\">3.1&nbsp;&nbsp;</span>Conclusion</a></span></li></ul></li><li><span><a href=\"#F.A.Q.\" data-toc-modified-id=\"F.A.Q.-4\"><span class=\"toc-item-num\">4&nbsp;&nbsp;</span>F.A.Q.</a></span><ul class=\"toc-item\"><li><span><a href=\"#What-if-I-don't-want-a-zip-file-anymore?\" data-toc-modified-id=\"What-if-I-don't-want-a-zip-file-anymore?-4.1\"><span class=\"toc-item-num\">4.1&nbsp;&nbsp;</span>What if I don't want a zip file anymore?</a></span></li></ul></li></ul></div>"
   ]
  },
  {
   "cell_type": "code",
   "execution_count": null,
   "metadata": {},
   "outputs": [],
   "source": []
  },
  {
   "cell_type": "markdown",
   "metadata": {},
   "source": [
    "# Haggle"
   ]
  },
  {
   "cell_type": "markdown",
   "metadata": {},
   "source": [
    "A simple facade to [Kaggle](https://www.kaggle.com/) data.\n",
    "\n",
    "**Haggle:** /ˈhaɡəl/\n",
    "- an instance of intense argument (as in bargaining) \n",
    "- wrangle (over a price, terms of an agreement, etc.) \n",
    "- rhymes with Kaggle and is not taken on pypi (well, now it is)\n",
    "\n",
    "Essentially, instantiate a `KaggleDatasets` object, and from it...\n",
    "- search for datasets from the python console (so much better than having pictures the [kaggle website](https://www.kaggle.com/) right?)\n",
    "- download what you want and start using...\n",
    "- ... oh, and it automatically caches the data zip to a local directory\n",
    "- ... oh, and all the while it pretends to be a humble dict with `owner/dataset` keys, and that's the coolest bit."
   ]
  },
  {
   "cell_type": "markdown",
   "metadata": {},
   "source": [
    "# Install"
   ]
  },
  {
   "cell_type": "markdown",
   "metadata": {},
   "source": [
    "pip install haggle"
   ]
  },
  {
   "cell_type": "markdown",
   "metadata": {},
   "source": [
    "**You'll need a kaggle api token to use this**\n",
    "\n",
    "If you do, you probably can just start using. \n",
    "\n",
    "If you don't got get one! Go see [this](https://github.com/Kaggle/kaggle-api) for detailed instructions, it essentially says:\n",
    "\n"
   ]
  },
  {
   "cell_type": "markdown",
   "metadata": {},
   "source": [
    "\n",
    "## API credentials\n",
    "\n",
    "To use the Kaggle API, sign up for a Kaggle account at https://www.kaggle.com. \n",
    "Then go to the 'Account' tab of your user profile (`https://www.kaggle.com/<username>/account`) and select 'Create API Token'. \n",
    "This will trigger the download of `kaggle.json`, a file containing your API credentials. \n",
    "Place this file in the location `~/.kaggle/kaggle.json` (on Windows in the location `C:\\Users\\<Windows-username>\\.kaggle\\kaggle.json` - you can check the exact location, sans drive, with `echo %HOMEPATH%`). \n",
    "You can define a shell environment variable `KAGGLE_CONFIG_DIR` to change this location to `$KAGGLE_CONFIG_DIR/kaggle.json` (on Windows it will be `%KAGGLE_CONFIG_DIR%\\kaggle.json`).\n",
    "\n",
    "For your security, ensure that other users of your computer do not have read access to your credentials. On Unix-based systems you can do this with the following command: \n",
    "\n",
    "`chmod 600 ~/.kaggle/kaggle.json`\n",
    "\n",
    "You can also choose to export your Kaggle username and token to the environment:\n",
    "\n",
    "```bash\n",
    "export KAGGLE_USERNAME=datadinosaur\n",
    "export KAGGLE_KEY=xxxxxxxxxxxxxx\n",
    "```\n",
    "In addition, you can export any other configuration value that normally would be in\n",
    "the `$HOME/.kaggle/kaggle.json` in the format 'KAGGLE_<VARIABLE>' (note uppercase).  \n",
    "For example, if the file had the variable \"proxy\" you would export `KAGGLE_PROXY`\n",
    "and it would be discovered by the client.\n"
   ]
  },
  {
   "cell_type": "markdown",
   "metadata": {},
   "source": [
    "# Simple example"
   ]
  },
  {
   "cell_type": "code",
   "execution_count": 2,
   "metadata": {
    "ExecuteTime": {
     "end_time": "2020-09-23T00:52:44.126091Z",
     "start_time": "2020-09-23T00:52:43.514406Z"
    }
   },
   "outputs": [],
   "source": [
    "from py2store.ext.kaggle import KaggleDatasets\n",
    "\n",
    "rootdir = '/D/Dropbox/_odata/kaggle/zips'  # define where you want the data to be cached/downloaded\n",
    "\n",
    "s = KaggleDatasets(rootdir)  # make an instance\n",
    "\n",
    "if 'rtatman/english-word-frequency' in s:\n",
    "    del s['rtatman/english-word-frequency']  # just to prepare for the demo\n"
   ]
  },
  {
   "cell_type": "code",
   "execution_count": 3,
   "metadata": {
    "ExecuteTime": {
     "end_time": "2020-09-23T00:52:54.938283Z",
     "start_time": "2020-09-23T00:52:54.914045Z"
    }
   },
   "outputs": [
    {
     "data": {
      "text/plain": [
       "['uciml/human-activity-recognition-with-smartphones',\n",
       " 'sitsawek/phonetics-articles-on-plos']"
      ]
     },
     "execution_count": 3,
     "metadata": {},
     "output_type": "execute_result"
    }
   ],
   "source": [
    "list(s)  # see what you have locally"
   ]
  },
  {
   "cell_type": "markdown",
   "metadata": {},
   "source": [
    "Let's search something (you can also search on [kaggle](https://www.kaggle.com/), I was kidding about it being lame!)"
   ]
  },
  {
   "cell_type": "code",
   "execution_count": 2,
   "metadata": {
    "ExecuteTime": {
     "end_time": "2020-09-22T23:38:58.020469Z",
     "start_time": "2020-09-22T23:38:55.457443Z"
    }
   },
   "outputs": [
    {
     "name": "stdout",
     "output_type": "stream",
     "text": [
      "len(results)=180\n"
     ]
    },
    {
     "data": {
      "text/plain": [
       "['rtatman/english-word-frequency',\n",
       " 'yekenot/fasttext-crawl-300d-2m',\n",
       " 'rtatman/japanese-lemma-frequency',\n",
       " 'rtatman/glove-global-vectors-for-word-representation',\n",
       " 'averkij/lingtrain-hungarian-word-frequency',\n",
       " 'lukevanhaezebrouck/subtlex-word-frequency',\n",
       " 'facebook/fatsttext-common-crawl',\n",
       " 'facebook/fasttext-wikinews',\n",
       " 'facebook/fasttext-english-word-vectors-including-subwords',\n",
       " 'kushtej/kannada-word-frequency']"
      ]
     },
     "execution_count": 2,
     "metadata": {},
     "output_type": "execute_result"
    }
   ],
   "source": [
    "results = s.search('word frequency')\n",
    "print(f\"{len(results)=}\")\n",
    "list(results)[:10]"
   ]
  },
  {
   "cell_type": "markdown",
   "metadata": {},
   "source": [
    "Chose what you want? Good, now do this:"
   ]
  },
  {
   "cell_type": "code",
   "execution_count": 5,
   "metadata": {
    "ExecuteTime": {
     "end_time": "2020-09-23T00:58:31.966199Z",
     "start_time": "2020-09-23T00:58:29.155197Z"
    }
   },
   "outputs": [
    {
     "data": {
      "text/plain": [
       "py2store.slib.s_zipfile.ZipReader"
      ]
     },
     "execution_count": 5,
     "metadata": {},
     "output_type": "execute_result"
    }
   ],
   "source": [
    "v = s['rtatman/english-word-frequency']\n",
    "type(v)"
   ]
  },
  {
   "cell_type": "markdown",
   "metadata": {},
   "source": [
    "Okay, let's slow down a moment. What happened? What's this `ZipReader` thingy?\n",
    "\n",
    "Well, what happened is that this downloaded the zip file of the data for you and saved it in `ROOTDIR/rtatman/english-word-frequency.zip`. Don't believe me? Go have a look. \n",
    "\n",
    "But then it also returns this object called `ZipReader` that points to it. \n",
    "\n",
    "If you don't like it, you don't have to use it. But I think you should like it.\n",
    "\n",
    "Look at what it can do!"
   ]
  },
  {
   "cell_type": "markdown",
   "metadata": {},
   "source": [
    "List the contents of file (that's in the zip... okay there's just one here, it's a bit boring)"
   ]
  },
  {
   "cell_type": "code",
   "execution_count": 6,
   "metadata": {
    "ExecuteTime": {
     "end_time": "2020-09-23T00:58:37.089433Z",
     "start_time": "2020-09-23T00:58:37.072230Z"
    }
   },
   "outputs": [
    {
     "data": {
      "text/plain": [
       "['unigram_freq.csv']"
      ]
     },
     "execution_count": 6,
     "metadata": {},
     "output_type": "execute_result"
    }
   ],
   "source": [
    "list(v)"
   ]
  },
  {
   "cell_type": "markdown",
   "metadata": {},
   "source": [
    "Retrieve the data for any given file of the zip without ever having to unzip it!\n",
    "\n",
    "Oh, and still pretending to be a dict. "
   ]
  },
  {
   "cell_type": "code",
   "execution_count": 7,
   "metadata": {
    "ExecuteTime": {
     "end_time": "2020-09-23T01:00:20.284635Z",
     "start_time": "2020-09-23T01:00:20.234530Z"
    }
   },
   "outputs": [
    {
     "name": "stdout",
     "output_type": "stream",
     "text": [
      "b is a <class 'bytes'> and has 4956252 bytes\n"
     ]
    }
   ],
   "source": [
    "b = v['unigram_freq.csv']\n",
    "print(f\"b is a {type(b)} and has {len(b)} bytes\")"
   ]
  },
  {
   "cell_type": "markdown",
   "metadata": {},
   "source": [
    "Now the data is given in bytes by default, since that's the basis of everything. \n",
    "\n",
    "From there you can go everywhere. Here for example, say we'd like to go to `pandas.DataFrame`..."
   ]
  },
  {
   "cell_type": "code",
   "execution_count": 9,
   "metadata": {
    "ExecuteTime": {
     "end_time": "2020-09-23T01:02:41.074993Z",
     "start_time": "2020-09-23T01:02:40.870791Z"
    }
   },
   "outputs": [
    {
     "data": {
      "text/plain": [
       "(333333, 2)"
      ]
     },
     "execution_count": 9,
     "metadata": {},
     "output_type": "execute_result"
    }
   ],
   "source": [
    "import pandas as pd\n",
    "from io import BytesIO\n",
    "\n",
    "df = pd.read_csv(BytesIO(b))\n",
    "df.shape"
   ]
  },
  {
   "cell_type": "code",
   "execution_count": 11,
   "metadata": {
    "ExecuteTime": {
     "end_time": "2020-09-23T01:03:18.893862Z",
     "start_time": "2020-09-23T01:03:18.879052Z"
    }
   },
   "outputs": [
    {
     "name": "stdout",
     "output_type": "stream",
     "text": [
      "  word        count\n",
      "0  the  23135851162\n",
      "1   of  13151942776\n",
      "2  and  12997637966\n",
      "3   to  12136980858\n",
      "4    a   9081174698\n",
      "5   in   8469404971\n",
      "6  for   5933321709\n"
     ]
    }
   ],
   "source": [
    "print(df.head(7).to_string())"
   ]
  },
  {
   "cell_type": "markdown",
   "metadata": {},
   "source": [
    "And as mentioned, it caches the data to your local drive. You know, download, so that the next time you ask for `s['rtatman/english-word-frequency']`, it'll be faster to get those bytes.\n",
    "\n",
    "See, let's list the contents of `s` again and see that we now have that `'rtatman/english-word-frequency'` key we didn't have before."
   ]
  },
  {
   "cell_type": "code",
   "execution_count": 5,
   "metadata": {
    "ExecuteTime": {
     "end_time": "2020-09-22T23:40:17.050613Z",
     "start_time": "2020-09-22T23:40:17.032721Z"
    }
   },
   "outputs": [
    {
     "data": {
      "text/plain": [
       "['uciml/human-activity-recognition-with-smartphones',\n",
       " 'rtatman/english-word-frequency',\n",
       " 'sitsawek/phonetics-articles-on-plos']"
      ]
     },
     "execution_count": 5,
     "metadata": {},
     "output_type": "execute_result"
    }
   ],
   "source": [
    "list(s)"
   ]
  },
  {
   "cell_type": "markdown",
   "metadata": {},
   "source": [
    "## Conclusion"
   ]
  },
  {
   "cell_type": "markdown",
   "metadata": {},
   "source": [
    "This is awesome.\n",
    "\n",
    "You get any dataset you want by just doing `s['owner/dataset']`, and start using it right away (or later), and the next time you ask for it, it'll be there at your fingertips."
   ]
  },
  {
   "cell_type": "code",
   "execution_count": null,
   "metadata": {},
   "outputs": [],
   "source": []
  },
  {
   "cell_type": "markdown",
   "metadata": {},
   "source": [
    "# F.A.Q."
   ]
  },
  {
   "cell_type": "markdown",
   "metadata": {},
   "source": [
    "## What if I don't want a zip file anymore?"
   ]
  },
  {
   "cell_type": "markdown",
   "metadata": {},
   "source": [
    "Just delete it, like you do with any file you don't want anymore. You know the one.\n",
    "\n",
    "Or... you can be cool and do `del s['owner/dataset']` for that key (note a key doesn't include the rootdir or the `.zip` extension), just like you would with a... `dict`, once again."
   ]
  },
  {
   "cell_type": "code",
   "execution_count": null,
   "metadata": {},
   "outputs": [],
   "source": []
  },
  {
   "cell_type": "code",
   "execution_count": null,
   "metadata": {},
   "outputs": [],
   "source": []
  },
  {
   "cell_type": "code",
   "execution_count": null,
   "metadata": {},
   "outputs": [],
   "source": []
  },
  {
   "cell_type": "code",
   "execution_count": null,
   "metadata": {},
   "outputs": [],
   "source": []
  },
  {
   "cell_type": "code",
   "execution_count": null,
   "metadata": {},
   "outputs": [],
   "source": []
  },
  {
   "cell_type": "code",
   "execution_count": null,
   "metadata": {},
   "outputs": [],
   "source": []
  },
  {
   "cell_type": "code",
   "execution_count": null,
   "metadata": {},
   "outputs": [],
   "source": []
  },
  {
   "cell_type": "code",
   "execution_count": null,
   "metadata": {},
   "outputs": [],
   "source": []
  }
 ],
 "metadata": {
  "kernelspec": {
   "display_name": "Python 3",
   "language": "python",
   "name": "python3"
  },
  "language_info": {
   "codemirror_mode": {
    "name": "ipython",
    "version": 3
   },
   "file_extension": ".py",
   "mimetype": "text/x-python",
   "name": "python",
   "nbconvert_exporter": "python",
   "pygments_lexer": "ipython3",
   "version": "3.8.2"
  },
  "latex_envs": {
   "LaTeX_envs_menu_present": true,
   "autoclose": false,
   "autocomplete": true,
   "bibliofile": "biblio.bib",
   "cite_by": "apalike",
   "current_citInitial": 1,
   "eqLabelWithNumbers": true,
   "eqNumInitial": 1,
   "hotkeys": {
    "equation": "Ctrl-E",
    "itemize": "Ctrl-I"
   },
   "labels_anchors": false,
   "latex_user_defs": false,
   "report_style_numbering": false,
   "user_envs_cfg": false
  },
  "toc": {
   "base_numbering": 1,
   "nav_menu": {},
   "number_sections": true,
   "sideBar": false,
   "skip_h1_title": false,
   "title_cell": "Table of Contents",
   "title_sidebar": "Contents",
   "toc_cell": true,
   "toc_position": {
    "height": "172px",
    "left": "64px",
    "top": "110px",
    "width": "885px"
   },
   "toc_section_display": true,
   "toc_window_display": true
  }
 },
 "nbformat": 4,
 "nbformat_minor": 4
}
